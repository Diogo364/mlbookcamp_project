{
 "cells": [
  {
   "cell_type": "markdown",
   "metadata": {},
   "source": [
    "# Homework 04\n",
    "---\n",
    "[mlbookcamp 04-evalutation](https://github.com/alexeygrigorev/mlbookcamp-code/blob/master/course-zoomcamp/cohorts/2022/04-evaluation/homework.md)"
   ]
  },
  {
   "cell_type": "code",
   "execution_count": 1,
   "metadata": {},
   "outputs": [],
   "source": [
    "import os.path as osp\n",
    "import numpy as np\n",
    "import pandas as pd\n",
    "import matplotlib.pyplot as plt"
   ]
  },
  {
   "cell_type": "code",
   "execution_count": 5,
   "metadata": {},
   "outputs": [],
   "source": [
    "DIRPATH=\"./data/\"\n",
    "FILENAME = \"CreditCard.csv\"\n",
    "DATAPATH = osp.join(DIRPATH, FILENAME)"
   ]
  },
  {
   "cell_type": "markdown",
   "metadata": {},
   "source": [
    "### Downloading data"
   ]
  },
  {
   "cell_type": "code",
   "execution_count": 6,
   "metadata": {},
   "outputs": [
    {
     "name": "stdout",
     "output_type": "stream",
     "text": [
      "Downloading data from https://raw.githubusercontent.com/alexeygrigorev/datasets/master/AER_credit_card_data.csv to ./data//CreditCard.csv\n",
      "--2022-10-03 09:02:22--  https://raw.githubusercontent.com/alexeygrigorev/datasets/master/AER_credit_card_data.csv\n",
      "Resolvendo raw.githubusercontent.com (raw.githubusercontent.com)... 2606:50c0:8001::154, 2606:50c0:8000::154, 2606:50c0:8003::154, ...\n",
      "Conectando-se a raw.githubusercontent.com (raw.githubusercontent.com)|2606:50c0:8001::154|:443... conectado.\n",
      "A requisição HTTP foi enviada, aguardando resposta... 200 OK\n",
      "Tamanho: 73250 (72K) [text/plain]\n",
      "Salvando em: “./data//CreditCard.csv”\n",
      "\n",
      "./data//CreditCard. 100%[===================>]  71,53K  --.-KB/s    em 0,03s   \n",
      "\n",
      "2022-10-03 09:02:23 (2,16 MB/s) - “./data//CreditCard.csv” salvo [73250/73250]\n",
      "\n"
     ]
    }
   ],
   "source": [
    "! ./downloading_data.sh -d $DIRPATH -f $FILENAME https://raw.githubusercontent.com/alexeygrigorev/datasets/master/AER_credit_card_data.csv"
   ]
  },
  {
   "cell_type": "markdown",
   "metadata": {},
   "source": [
    "## Preparation\n",
    "Code available at https://github.com/alexeygrigorev/mlbookcamp-code/blob/master/course-zoomcamp/04-evaluation/homework-4-starter.ipynb"
   ]
  },
  {
   "cell_type": "code",
   "execution_count": 7,
   "metadata": {},
   "outputs": [
    {
     "data": {
      "text/html": [
       "<div>\n",
       "<style scoped>\n",
       "    .dataframe tbody tr th:only-of-type {\n",
       "        vertical-align: middle;\n",
       "    }\n",
       "\n",
       "    .dataframe tbody tr th {\n",
       "        vertical-align: top;\n",
       "    }\n",
       "\n",
       "    .dataframe thead th {\n",
       "        text-align: right;\n",
       "    }\n",
       "</style>\n",
       "<table border=\"1\" class=\"dataframe\">\n",
       "  <thead>\n",
       "    <tr style=\"text-align: right;\">\n",
       "      <th></th>\n",
       "      <th>0</th>\n",
       "      <th>1</th>\n",
       "      <th>2</th>\n",
       "      <th>3</th>\n",
       "      <th>4</th>\n",
       "    </tr>\n",
       "  </thead>\n",
       "  <tbody>\n",
       "    <tr>\n",
       "      <th>card</th>\n",
       "      <td>yes</td>\n",
       "      <td>yes</td>\n",
       "      <td>yes</td>\n",
       "      <td>yes</td>\n",
       "      <td>yes</td>\n",
       "    </tr>\n",
       "    <tr>\n",
       "      <th>reports</th>\n",
       "      <td>0</td>\n",
       "      <td>0</td>\n",
       "      <td>0</td>\n",
       "      <td>0</td>\n",
       "      <td>0</td>\n",
       "    </tr>\n",
       "    <tr>\n",
       "      <th>age</th>\n",
       "      <td>37.66667</td>\n",
       "      <td>33.25</td>\n",
       "      <td>33.66667</td>\n",
       "      <td>30.5</td>\n",
       "      <td>32.16667</td>\n",
       "    </tr>\n",
       "    <tr>\n",
       "      <th>income</th>\n",
       "      <td>4.52</td>\n",
       "      <td>2.42</td>\n",
       "      <td>4.5</td>\n",
       "      <td>2.54</td>\n",
       "      <td>9.7867</td>\n",
       "    </tr>\n",
       "    <tr>\n",
       "      <th>share</th>\n",
       "      <td>0.03327</td>\n",
       "      <td>0.005217</td>\n",
       "      <td>0.004156</td>\n",
       "      <td>0.065214</td>\n",
       "      <td>0.067051</td>\n",
       "    </tr>\n",
       "    <tr>\n",
       "      <th>expenditure</th>\n",
       "      <td>124.9833</td>\n",
       "      <td>9.854167</td>\n",
       "      <td>15.0</td>\n",
       "      <td>137.8692</td>\n",
       "      <td>546.5033</td>\n",
       "    </tr>\n",
       "    <tr>\n",
       "      <th>owner</th>\n",
       "      <td>yes</td>\n",
       "      <td>no</td>\n",
       "      <td>yes</td>\n",
       "      <td>no</td>\n",
       "      <td>yes</td>\n",
       "    </tr>\n",
       "    <tr>\n",
       "      <th>selfemp</th>\n",
       "      <td>no</td>\n",
       "      <td>no</td>\n",
       "      <td>no</td>\n",
       "      <td>no</td>\n",
       "      <td>no</td>\n",
       "    </tr>\n",
       "    <tr>\n",
       "      <th>dependents</th>\n",
       "      <td>3</td>\n",
       "      <td>3</td>\n",
       "      <td>4</td>\n",
       "      <td>0</td>\n",
       "      <td>2</td>\n",
       "    </tr>\n",
       "    <tr>\n",
       "      <th>months</th>\n",
       "      <td>54</td>\n",
       "      <td>34</td>\n",
       "      <td>58</td>\n",
       "      <td>25</td>\n",
       "      <td>64</td>\n",
       "    </tr>\n",
       "    <tr>\n",
       "      <th>majorcards</th>\n",
       "      <td>1</td>\n",
       "      <td>1</td>\n",
       "      <td>1</td>\n",
       "      <td>1</td>\n",
       "      <td>1</td>\n",
       "    </tr>\n",
       "    <tr>\n",
       "      <th>active</th>\n",
       "      <td>12</td>\n",
       "      <td>13</td>\n",
       "      <td>5</td>\n",
       "      <td>7</td>\n",
       "      <td>5</td>\n",
       "    </tr>\n",
       "  </tbody>\n",
       "</table>\n",
       "</div>"
      ],
      "text/plain": [
       "                    0         1         2         3         4\n",
       "card              yes       yes       yes       yes       yes\n",
       "reports             0         0         0         0         0\n",
       "age          37.66667     33.25  33.66667      30.5  32.16667\n",
       "income           4.52      2.42       4.5      2.54    9.7867\n",
       "share         0.03327  0.005217  0.004156  0.065214  0.067051\n",
       "expenditure  124.9833  9.854167      15.0  137.8692  546.5033\n",
       "owner             yes        no       yes        no       yes\n",
       "selfemp            no        no        no        no        no\n",
       "dependents          3         3         4         0         2\n",
       "months             54        34        58        25        64\n",
       "majorcards          1         1         1         1         1\n",
       "active             12        13         5         7         5"
      ]
     },
     "execution_count": 7,
     "metadata": {},
     "output_type": "execute_result"
    }
   ],
   "source": [
    "data = pd.read_csv(DATAPATH)\n",
    "data.columns = data.columns.str.lower()\n",
    "data.head().T"
   ]
  },
  {
   "cell_type": "markdown",
   "metadata": {},
   "source": [
    "Create the target variable by mapping `yes` to `1` and `no` to `0`."
   ]
  },
  {
   "cell_type": "code",
   "execution_count": 10,
   "metadata": {},
   "outputs": [],
   "source": [
    "target_card = data.card == 'yes'"
   ]
  },
  {
   "cell_type": "markdown",
   "metadata": {},
   "source": [
    "Split the data into 3 parts: train/validation/test with 60%/20%/20% distribution. Use train_test_split funciton for that with random_state=1\n"
   ]
  },
  {
   "cell_type": "code",
   "execution_count": 33,
   "metadata": {},
   "outputs": [],
   "source": [
    "from sklearn.model_selection import train_test_split\n",
    "\n",
    "X_train, X_test, Y_train, Y_test = train_test_split(data.drop(columns='card'),\n",
    "                                                    target_card,\n",
    "                                                    test_size=0.2,\n",
    "                                                    random_state=1)\n",
    "\n",
    "X_train, X_val, Y_train, Y_val = train_test_split(X_train,\n",
    "                                                Y_train,\n",
    "                                                test_size=0.25,\n",
    "                                                random_state=1)"
   ]
  },
  {
   "cell_type": "code",
   "execution_count": 34,
   "metadata": {},
   "outputs": [
    {
     "data": {
      "text/plain": [
       "array([0.6, 0.2, 0.2])"
      ]
     },
     "execution_count": 34,
     "metadata": {},
     "output_type": "execute_result"
    }
   ],
   "source": [
    "np.round([len(X_train)/len(data), len(X_test)/len(data), len(X_val)/len(data)], 2)"
   ]
  },
  {
   "cell_type": "markdown",
   "metadata": {},
   "source": [
    "## Question 1\n",
    "ROC AUC could also be used to evaluate feature importance of numerical variables.\n",
    "\n",
    "Let's do that\n",
    "\n",
    "- For each numerical variable, use it as score and compute AUC with the \"card\" variable\n",
    "- Use the training dataset for that\n",
    "\n",
    "If your AUC is < 0.5, invert this variable by putting \"-\" in front\n",
    "\n",
    "(e.g. -df_train['expenditure'])\n",
    "\n",
    "AUC can go below 0.5 if the variable is negatively correlated with the target varialble. You can change the direction of the correlation by negating this variable - then negative correlation becomes positive."
   ]
  },
  {
   "cell_type": "markdown",
   "metadata": {},
   "source": [
    "Which numerical variable (among the following 4) has the highest AUC?\n",
    "\n",
    "- `reports`\n",
    "- `dependents`\n",
    "- `active`\n",
    "- `share`"
   ]
  },
  {
   "cell_type": "code",
   "execution_count": 35,
   "metadata": {},
   "outputs": [
    {
     "data": {
      "text/plain": [
       "{'reports': 0.7166629860689376,\n",
       " 'dependents': 0.5327757227773791,\n",
       " 'active': 0.6043173411362006,\n",
       " 'share': 0.989183643423692}"
      ]
     },
     "execution_count": 35,
     "metadata": {},
     "output_type": "execute_result"
    }
   ],
   "source": [
    "from sklearn.metrics import roc_auc_score\n",
    "\n",
    "query_features = ['reports', 'dependents', 'active', 'share']\n",
    "dict_scores = {}\n",
    "for feature in query_features:\n",
    "    auc_score = roc_auc_score(Y_train, X_train[feature])\n",
    "    auc_score = auc_score if auc_score >= 0.5 else roc_auc_score(Y_train, -X_train[feature])\n",
    "    dict_scores[feature] = auc_score\n",
    "dict_scores"
   ]
  },
  {
   "cell_type": "code",
   "execution_count": 36,
   "metadata": {},
   "outputs": [
    {
     "data": {
      "text/plain": [
       "['share', 'reports', 'active', 'dependents']"
      ]
     },
     "execution_count": 36,
     "metadata": {},
     "output_type": "execute_result"
    }
   ],
   "source": [
    "sorted(dict_scores, key=dict_scores.get, reverse=True)"
   ]
  },
  {
   "cell_type": "markdown",
   "metadata": {},
   "source": [
    "## Training the model\n",
    "From now on, use these columns only:\n",
    "    \n",
    "    [\"reports\", \"age\", \"income\", \"share\", \"expenditure\", \"dependents\", \"months\", \"majorcards\", \"active\", \"owner\", \"selfemp\"]\n",
    "\n",
    "Apply `one-hot-encoding` using `DictVectorizer` and train the logistic regression with these parameters:\n",
    "\n",
    "    LogisticRegression(solver='liblinear', C=1.0, max_iter=1000)"
   ]
  },
  {
   "cell_type": "code",
   "execution_count": 37,
   "metadata": {},
   "outputs": [],
   "source": [
    "feature_columnns = [\"reports\", \"age\", \"income\", \"share\", \"expenditure\", \"dependents\", \"months\", \"majorcards\", \"active\", \"owner\", \"selfemp\"]\n",
    "\n",
    "X_train = X_train[feature_columnns]\n",
    "X_test = X_test[feature_columnns]\n",
    "X_val = X_val[feature_columnns]"
   ]
  },
  {
   "cell_type": "code",
   "execution_count": 38,
   "metadata": {},
   "outputs": [],
   "source": [
    "from sklearn.feature_extraction import DictVectorizer\n",
    "\n",
    "dict_vect = DictVectorizer(sparse=False)\n",
    "X_train_preprocessed = dict_vect.fit_transform(X_train.to_dict(orient='records'))\n",
    "X_test_preprocessed = dict_vect.transform(X_test.to_dict(orient='records'))\n",
    "X_val_preprocessed = dict_vect.transform(X_val.to_dict(orient='records'))"
   ]
  },
  {
   "cell_type": "code",
   "execution_count": 39,
   "metadata": {},
   "outputs": [
    {
     "data": {
      "text/plain": [
       "LogisticRegression(max_iter=1000, solver='liblinear')"
      ]
     },
     "execution_count": 39,
     "metadata": {},
     "output_type": "execute_result"
    }
   ],
   "source": [
    "from sklearn.linear_model import LogisticRegression\n",
    "\n",
    "model = LogisticRegression(solver='liblinear', C=1.0, max_iter=1000)\n",
    "model.fit(X_train_preprocessed, Y_train)"
   ]
  },
  {
   "cell_type": "markdown",
   "metadata": {},
   "source": [
    "## Question 2\n",
    "What's the AUC of this model on the validation dataset? (round to 3 digits)"
   ]
  },
  {
   "cell_type": "code",
   "execution_count": 40,
   "metadata": {},
   "outputs": [
    {
     "data": {
      "text/plain": [
       "0.995"
      ]
     },
     "execution_count": 40,
     "metadata": {},
     "output_type": "execute_result"
    }
   ],
   "source": [
    "yhat = model.predict_proba(X_val_preprocessed)[:, 1]\n",
    "round(roc_auc_score(Y_val, yhat), 3)"
   ]
  },
  {
   "cell_type": "markdown",
   "metadata": {},
   "source": [
    "## Question 3\n",
    "Now let's compute precision and recall for our model.\n",
    "\n",
    "- Evaluate the model on all thresholds from 0.0 to 1.0 with step 0.01\n",
    "- For each threshold, compute precision and recall\n",
    "- Plot them"
   ]
  },
  {
   "cell_type": "code",
   "execution_count": 41,
   "metadata": {},
   "outputs": [],
   "source": [
    "from sklearn.metrics import precision_score, recall_score\n",
    "\n",
    "yhat_proba = model.predict_proba(X_val_preprocessed)[:, 1]\n",
    "\n",
    "score_dict = {'threshold': [], 'precision': [], 'recall': []}\n",
    "\n",
    "for threshold in np.arange(0.0, 1.0, step=0.01):\n",
    "    yhat = (yhat_proba > threshold) * 1\n",
    "    score_dict['threshold'].append(threshold)\n",
    "    score_dict['precision'].append(precision_score(Y_val, yhat, zero_division=0.0))\n",
    "    score_dict['recall'].append(recall_score(Y_val, yhat, zero_division=.0))"
   ]
  },
  {
   "cell_type": "code",
   "execution_count": 42,
   "metadata": {},
   "outputs": [
    {
     "data": {
      "image/png": "[encoded data removed]",
      "text/plain": [
       "<Figure size 432x288 with 1 Axes>"
      ]
     },
     "metadata": {
      "needs_background": "light"
     },
     "output_type": "display_data"
    }
   ],
   "source": [
    "score_df = pd.DataFrame(score_dict).set_index('threshold')\n",
    "plt.plot(score_df.index, score_df.precision, label='PRECISION')\n",
    "plt.plot(score_df.index, score_df.recall, label='RECALL')\n",
    "plt.title('Precision x Recall')\n",
    "plt.xlabel('Threshold')\n",
    "plt.ylabel('Score')\n",
    "plt.legend()\n",
    "plt.show()"
   ]
  },
  {
   "cell_type": "markdown",
   "metadata": {},
   "source": [
    "## Question 4\n",
    "Precision and recall are conflicting - when one grows, the other goes down. That's why they are often combined into the F1 score - a metrics that takes into account both\n",
    "\n",
    "This is the formula for computing F1:\n",
    "$$F_1 = 2 \\cdot \\cfrac{P \\cdot R}{P + R}$$\n",
    "\n",
    " \n",
    "Where `P` is precision and `R` is recall.\n",
    "\n",
    "Let's compute F1 for all thresholds from 0.0 to 1.0 with increment 0.01\n",
    "\n"
   ]
  },
  {
   "cell_type": "markdown",
   "metadata": {},
   "source": [
    "At which threshold F1 is maximal?\n",
    "\n",
    "- `0.1`\n",
    "- `0.4`\n",
    "- `0.6`\n",
    "- `0.7`"
   ]
  },
  {
   "cell_type": "code",
   "execution_count": 43,
   "metadata": {},
   "outputs": [
    {
     "data": {
      "text/html": [
       "<div>\n",
       "<style scoped>\n",
       "    .dataframe tbody tr th:only-of-type {\n",
       "        vertical-align: middle;\n",
       "    }\n",
       "\n",
       "    .dataframe tbody tr th {\n",
       "        vertical-align: top;\n",
       "    }\n",
       "\n",
       "    .dataframe thead th {\n",
       "        text-align: right;\n",
       "    }\n",
       "</style>\n",
       "<table border=\"1\" class=\"dataframe\">\n",
       "  <thead>\n",
       "    <tr style=\"text-align: right;\">\n",
       "      <th></th>\n",
       "      <th>precision</th>\n",
       "      <th>recall</th>\n",
       "      <th>F1</th>\n",
       "    </tr>\n",
       "    <tr>\n",
       "      <th>threshold</th>\n",
       "      <th></th>\n",
       "      <th></th>\n",
       "      <th></th>\n",
       "    </tr>\n",
       "  </thead>\n",
       "  <tbody>\n",
       "    <tr>\n",
       "      <th>0.35</th>\n",
       "      <td>0.995146</td>\n",
       "      <td>0.971564</td>\n",
       "      <td>0.983213</td>\n",
       "    </tr>\n",
       "    <tr>\n",
       "      <th>0.36</th>\n",
       "      <td>0.995146</td>\n",
       "      <td>0.971564</td>\n",
       "      <td>0.983213</td>\n",
       "    </tr>\n",
       "    <tr>\n",
       "      <th>0.41</th>\n",
       "      <td>0.995146</td>\n",
       "      <td>0.971564</td>\n",
       "      <td>0.983213</td>\n",
       "    </tr>\n",
       "    <tr>\n",
       "      <th>0.37</th>\n",
       "      <td>0.995146</td>\n",
       "      <td>0.971564</td>\n",
       "      <td>0.983213</td>\n",
       "    </tr>\n",
       "    <tr>\n",
       "      <th>0.38</th>\n",
       "      <td>0.995146</td>\n",
       "      <td>0.971564</td>\n",
       "      <td>0.983213</td>\n",
       "    </tr>\n",
       "    <tr>\n",
       "      <th>...</th>\n",
       "      <td>...</td>\n",
       "      <td>...</td>\n",
       "      <td>...</td>\n",
       "    </tr>\n",
       "    <tr>\n",
       "      <th>0.04</th>\n",
       "      <td>0.905579</td>\n",
       "      <td>1.000000</td>\n",
       "      <td>0.950450</td>\n",
       "    </tr>\n",
       "    <tr>\n",
       "      <th>0.03</th>\n",
       "      <td>0.897872</td>\n",
       "      <td>1.000000</td>\n",
       "      <td>0.946188</td>\n",
       "    </tr>\n",
       "    <tr>\n",
       "      <th>0.02</th>\n",
       "      <td>0.871901</td>\n",
       "      <td>1.000000</td>\n",
       "      <td>0.931567</td>\n",
       "    </tr>\n",
       "    <tr>\n",
       "      <th>0.01</th>\n",
       "      <td>0.861224</td>\n",
       "      <td>1.000000</td>\n",
       "      <td>0.925439</td>\n",
       "    </tr>\n",
       "    <tr>\n",
       "      <th>0.00</th>\n",
       "      <td>0.799242</td>\n",
       "      <td>1.000000</td>\n",
       "      <td>0.888421</td>\n",
       "    </tr>\n",
       "  </tbody>\n",
       "</table>\n",
       "<p>100 rows × 3 columns</p>\n",
       "</div>"
      ],
      "text/plain": [
       "           precision    recall        F1\n",
       "threshold                               \n",
       "0.35        0.995146  0.971564  0.983213\n",
       "0.36        0.995146  0.971564  0.983213\n",
       "0.41        0.995146  0.971564  0.983213\n",
       "0.37        0.995146  0.971564  0.983213\n",
       "0.38        0.995146  0.971564  0.983213\n",
       "...              ...       ...       ...\n",
       "0.04        0.905579  1.000000  0.950450\n",
       "0.03        0.897872  1.000000  0.946188\n",
       "0.02        0.871901  1.000000  0.931567\n",
       "0.01        0.861224  1.000000  0.925439\n",
       "0.00        0.799242  1.000000  0.888421\n",
       "\n",
       "[100 rows x 3 columns]"
      ]
     },
     "execution_count": 43,
     "metadata": {},
     "output_type": "execute_result"
    }
   ],
   "source": [
    "score_df['F1'] = 2* (score_df.precision * score_df.recall) / (score_df.precision + score_df.recall)\n",
    "score_df.sort_values(by='F1', ascending=False)"
   ]
  },
  {
   "cell_type": "markdown",
   "metadata": {},
   "source": [
    "## Question 5\n",
    "Use the KFold class from Scikit-Learn to evaluate our model on 5 different folds:\n",
    "\n",
    "    KFold(n_splits=5, shuffle=True, random_state=1)\n",
    "- Iterate over different folds of df_full_train\n",
    "- Split the data into train and validation\n",
    "- Train the model on train with these parameters: `LogisticRegression(solver='liblinear', C=1.0, max_iter=1000)`\n",
    "- Use AUC to evaluate the model on validation"
   ]
  },
  {
   "cell_type": "markdown",
   "metadata": {},
   "source": [
    "How large is standard devidation of the AUC scores across different folds?\n",
    "\n",
    "- `0.003`\n",
    "- `0.014`\n",
    "- `0.09`\n",
    "- `0.24`"
   ]
  },
  {
   "cell_type": "code",
   "execution_count": 44,
   "metadata": {},
   "outputs": [],
   "source": [
    "df_full_x_train = pd.concat([X_train, X_test, X_val])\n",
    "df_full_y_train = pd.concat([Y_train, Y_test, Y_val])"
   ]
  },
  {
   "cell_type": "code",
   "execution_count": 45,
   "metadata": {},
   "outputs": [],
   "source": [
    "from sklearn.model_selection import KFold\n",
    "\n",
    "score_list = []\n",
    "model = LogisticRegression(solver='liblinear', C=1.0, max_iter=1000)\n",
    "kfold = KFold(n_splits=5, shuffle=True, random_state=1)\n",
    "for train_idx, val_idx in kfold.split(df_full_x_train, df_full_y_train):\n",
    "    X_train = df_full_x_train.iloc[train_idx]\n",
    "    X_val = df_full_x_train.iloc[val_idx]\n",
    "    Y_train = df_full_y_train.iloc[train_idx]\n",
    "    Y_val = df_full_y_train.iloc[val_idx]\n",
    "    model.fit(dict_vect.fit_transform(X_train.to_dict(orient='records')), Y_train)\n",
    "    yhat = model.predict_proba(dict_vect.transform(X_val.to_dict(orient='records')))[:, 1]\n",
    "    score_list.append(roc_auc_score(Y_val, yhat))"
   ]
  },
  {
   "cell_type": "code",
   "execution_count": 46,
   "metadata": {},
   "outputs": [
    {
     "data": {
      "text/plain": [
       "(0.9952082970814731, 0.004554857008222343)"
      ]
     },
     "execution_count": 46,
     "metadata": {},
     "output_type": "execute_result"
    }
   ],
   "source": [
    "np.mean(score_list), np.std(score_list)"
   ]
  },
  {
   "cell_type": "markdown",
   "metadata": {},
   "source": [
    "## Question 6\n",
    "Now let's use 5-Fold cross-validation to find the best parameter C\n",
    "\n",
    "- Iterate over the following C values: `[0.01, 0.1, 1, 10]`\n",
    "- Initialize KFold with the same parameters as previously\n",
    "- Use these parametes for the model: LogisticRegression(solver='liblinear', C=C, max_iter=1000)\n",
    "- Compute the mean score as well as the std (round the mean and std to 3 decimal digits)"
   ]
  },
  {
   "cell_type": "markdown",
   "metadata": {},
   "source": [
    "Which C leads to the best mean score?\n",
    "\n",
    "- `0.01`\n",
    "- `0.1`\n",
    "- `1`\n",
    "- `10`\n",
    "\n",
    "If you have ties, select the score with the lowest std. If you still have ties, select the smallest C"
   ]
  },
  {
   "cell_type": "code",
   "execution_count": 48,
   "metadata": {},
   "outputs": [
    {
     "data": {
      "text/html": [
       "<div>\n",
       "<style scoped>\n",
       "    .dataframe tbody tr th:only-of-type {\n",
       "        vertical-align: middle;\n",
       "    }\n",
       "\n",
       "    .dataframe tbody tr th {\n",
       "        vertical-align: top;\n",
       "    }\n",
       "\n",
       "    .dataframe thead th {\n",
       "        text-align: right;\n",
       "    }\n",
       "</style>\n",
       "<table border=\"1\" class=\"dataframe\">\n",
       "  <thead>\n",
       "    <tr style=\"text-align: right;\">\n",
       "      <th></th>\n",
       "      <th>C</th>\n",
       "      <th>K</th>\n",
       "      <th>score</th>\n",
       "    </tr>\n",
       "  </thead>\n",
       "  <tbody>\n",
       "    <tr>\n",
       "      <th>0</th>\n",
       "      <td>0.01</td>\n",
       "      <td>0</td>\n",
       "      <td>0.999897</td>\n",
       "    </tr>\n",
       "    <tr>\n",
       "      <th>1</th>\n",
       "      <td>0.01</td>\n",
       "      <td>1</td>\n",
       "      <td>0.984469</td>\n",
       "    </tr>\n",
       "    <tr>\n",
       "      <th>2</th>\n",
       "      <td>0.01</td>\n",
       "      <td>2</td>\n",
       "      <td>0.995256</td>\n",
       "    </tr>\n",
       "    <tr>\n",
       "      <th>3</th>\n",
       "      <td>0.01</td>\n",
       "      <td>3</td>\n",
       "      <td>0.985697</td>\n",
       "    </tr>\n",
       "    <tr>\n",
       "      <th>4</th>\n",
       "      <td>0.01</td>\n",
       "      <td>4</td>\n",
       "      <td>0.995929</td>\n",
       "    </tr>\n",
       "    <tr>\n",
       "      <th>5</th>\n",
       "      <td>0.10</td>\n",
       "      <td>0</td>\n",
       "      <td>0.999897</td>\n",
       "    </tr>\n",
       "    <tr>\n",
       "      <th>6</th>\n",
       "      <td>0.10</td>\n",
       "      <td>1</td>\n",
       "      <td>0.985069</td>\n",
       "    </tr>\n",
       "    <tr>\n",
       "      <th>7</th>\n",
       "      <td>0.10</td>\n",
       "      <td>2</td>\n",
       "      <td>0.997628</td>\n",
       "    </tr>\n",
       "    <tr>\n",
       "      <th>8</th>\n",
       "      <td>0.10</td>\n",
       "      <td>3</td>\n",
       "      <td>0.990740</td>\n",
       "    </tr>\n",
       "    <tr>\n",
       "      <th>9</th>\n",
       "      <td>0.10</td>\n",
       "      <td>4</td>\n",
       "      <td>0.998255</td>\n",
       "    </tr>\n",
       "    <tr>\n",
       "      <th>10</th>\n",
       "      <td>1.00</td>\n",
       "      <td>0</td>\n",
       "      <td>0.999897</td>\n",
       "    </tr>\n",
       "    <tr>\n",
       "      <th>11</th>\n",
       "      <td>1.00</td>\n",
       "      <td>1</td>\n",
       "      <td>0.987695</td>\n",
       "    </tr>\n",
       "    <tr>\n",
       "      <th>12</th>\n",
       "      <td>1.00</td>\n",
       "      <td>2</td>\n",
       "      <td>0.997551</td>\n",
       "    </tr>\n",
       "    <tr>\n",
       "      <th>13</th>\n",
       "      <td>1.00</td>\n",
       "      <td>3</td>\n",
       "      <td>0.992311</td>\n",
       "    </tr>\n",
       "    <tr>\n",
       "      <th>14</th>\n",
       "      <td>1.00</td>\n",
       "      <td>4</td>\n",
       "      <td>0.998588</td>\n",
       "    </tr>\n",
       "    <tr>\n",
       "      <th>15</th>\n",
       "      <td>10.00</td>\n",
       "      <td>0</td>\n",
       "      <td>0.999897</td>\n",
       "    </tr>\n",
       "    <tr>\n",
       "      <th>16</th>\n",
       "      <td>10.00</td>\n",
       "      <td>1</td>\n",
       "      <td>0.988670</td>\n",
       "    </tr>\n",
       "    <tr>\n",
       "      <th>17</th>\n",
       "      <td>10.00</td>\n",
       "      <td>2</td>\n",
       "      <td>0.997781</td>\n",
       "    </tr>\n",
       "    <tr>\n",
       "      <th>18</th>\n",
       "      <td>10.00</td>\n",
       "      <td>3</td>\n",
       "      <td>0.992724</td>\n",
       "    </tr>\n",
       "    <tr>\n",
       "      <th>19</th>\n",
       "      <td>10.00</td>\n",
       "      <td>4</td>\n",
       "      <td>0.998504</td>\n",
       "    </tr>\n",
       "  </tbody>\n",
       "</table>\n",
       "</div>"
      ],
      "text/plain": [
       "        C  K     score\n",
       "0    0.01  0  0.999897\n",
       "1    0.01  1  0.984469\n",
       "2    0.01  2  0.995256\n",
       "3    0.01  3  0.985697\n",
       "4    0.01  4  0.995929\n",
       "5    0.10  0  0.999897\n",
       "6    0.10  1  0.985069\n",
       "7    0.10  2  0.997628\n",
       "8    0.10  3  0.990740\n",
       "9    0.10  4  0.998255\n",
       "10   1.00  0  0.999897\n",
       "11   1.00  1  0.987695\n",
       "12   1.00  2  0.997551\n",
       "13   1.00  3  0.992311\n",
       "14   1.00  4  0.998588\n",
       "15  10.00  0  0.999897\n",
       "16  10.00  1  0.988670\n",
       "17  10.00  2  0.997781\n",
       "18  10.00  3  0.992724\n",
       "19  10.00  4  0.998504"
      ]
     },
     "execution_count": 48,
     "metadata": {},
     "output_type": "execute_result"
    }
   ],
   "source": [
    "score_dict = {'C': [], 'K': [], 'score': []}\n",
    "\n",
    "for C in [0.01, 0.1, 1, 10]:\n",
    "    model = LogisticRegression(solver='liblinear', C=C, max_iter=1000)\n",
    "    kfold = KFold(n_splits=5, shuffle=True, random_state=1)\n",
    "    \n",
    "    for K, (train_idx, val_idx) in enumerate(kfold.split(df_full_x_train, df_full_y_train)):\n",
    "        X_train = df_full_x_train.iloc[train_idx]\n",
    "        X_val = df_full_x_train.iloc[val_idx]\n",
    "        Y_train = df_full_y_train.iloc[train_idx]\n",
    "        Y_val = df_full_y_train.iloc[val_idx]\n",
    "        \n",
    "        model.fit(dict_vect.fit_transform(X_train.to_dict(orient='records')), Y_train)\n",
    "        yhat = model.predict_proba(dict_vect.transform(X_val.to_dict(orient='records')))[:, 1]\n",
    "        \n",
    "        score_dict['C'].append(C)\n",
    "        score_dict['K'].append(K)\n",
    "        score_dict['score'].append(roc_auc_score(Y_val, yhat))\n",
    "\n",
    "score_df = pd.DataFrame(score_dict)\n",
    "score_df"
   ]
  },
  {
   "cell_type": "code",
   "execution_count": 49,
   "metadata": {},
   "outputs": [
    {
     "data": {
      "text/html": [
       "<div>\n",
       "<style scoped>\n",
       "    .dataframe tbody tr th:only-of-type {\n",
       "        vertical-align: middle;\n",
       "    }\n",
       "\n",
       "    .dataframe tbody tr th {\n",
       "        vertical-align: top;\n",
       "    }\n",
       "\n",
       "    .dataframe thead tr th {\n",
       "        text-align: left;\n",
       "    }\n",
       "</style>\n",
       "<table border=\"1\" class=\"dataframe\">\n",
       "  <thead>\n",
       "    <tr>\n",
       "      <th></th>\n",
       "      <th>C</th>\n",
       "      <th>mean</th>\n",
       "      <th>std</th>\n",
       "    </tr>\n",
       "    <tr>\n",
       "      <th></th>\n",
       "      <th></th>\n",
       "      <th>score</th>\n",
       "      <th>score</th>\n",
       "    </tr>\n",
       "  </thead>\n",
       "  <tbody>\n",
       "    <tr>\n",
       "      <th>3</th>\n",
       "      <td>10.00</td>\n",
       "      <td>0.996</td>\n",
       "      <td>0.005</td>\n",
       "    </tr>\n",
       "    <tr>\n",
       "      <th>2</th>\n",
       "      <td>1.00</td>\n",
       "      <td>0.995</td>\n",
       "      <td>0.005</td>\n",
       "    </tr>\n",
       "    <tr>\n",
       "      <th>1</th>\n",
       "      <td>0.10</td>\n",
       "      <td>0.994</td>\n",
       "      <td>0.006</td>\n",
       "    </tr>\n",
       "    <tr>\n",
       "      <th>0</th>\n",
       "      <td>0.01</td>\n",
       "      <td>0.992</td>\n",
       "      <td>0.007</td>\n",
       "    </tr>\n",
       "  </tbody>\n",
       "</table>\n",
       "</div>"
      ],
      "text/plain": [
       "       C   mean    std\n",
       "          score  score\n",
       "3  10.00  0.996  0.005\n",
       "2   1.00  0.995  0.005\n",
       "1   0.10  0.994  0.006\n",
       "0   0.01  0.992  0.007"
      ]
     },
     "execution_count": 49,
     "metadata": {},
     "output_type": "execute_result"
    }
   ],
   "source": [
    "score_df.pivot_table(index='C', values='score', aggfunc=['mean', 'std']).round(3).reset_index().sort_values(by=[('mean', 'score'), ('std', 'score'), 'C'], ascending=[False, False, True])"
   ]
  }
 ],
 "metadata": {
  "kernelspec": {
   "display_name": "Python 3.8.13 ('general-conda')",
   "language": "python",
   "name": "python3"
  },
  "language_info": {
   "codemirror_mode": {
    "name": "ipython",
    "version": 3
   },
   "file_extension": ".py",
   "mimetype": "text/x-python",
   "name": "python",
   "nbconvert_exporter": "python",
   "pygments_lexer": "ipython3",
   "version": "3.8.13"
  },
  "orig_nbformat": 4,
  "vscode": {
   "interpreter": {
    "hash": "a6c412e415f27236cb9d9dc68868e41cb65d54679c06807ebc8d62a20f3611d4"
   }
  }
 },
 "nbformat": 4,
 "nbformat_minor": 2
}
